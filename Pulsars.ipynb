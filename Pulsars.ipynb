{
 "cells": [
  {
   "cell_type": "code",
   "execution_count": 1,
   "id": "34634bb2",
   "metadata": {},
   "outputs": [],
   "source": [
    "%matplotlib inline"
   ]
  },
  {
   "cell_type": "code",
   "execution_count": 2,
   "id": "a8c6f148",
   "metadata": {},
   "outputs": [],
   "source": [
    "import numpy as np\n",
    "import pandas as pd\n",
    "import matplotlib.pyplot as plt"
   ]
  },
  {
   "cell_type": "markdown",
   "id": "7cabbd99",
   "metadata": {},
   "source": [
    "<p style=\"text-align: right;color: goldenrod; font-size: 13px\" > written by Irina Nedyalkova"
   ]
  },
  {
   "cell_type": "markdown",
   "id": "30c11311",
   "metadata": {},
   "source": [
    "<p style=\"text-align: right;color: goldenrod; font-size: 13px\" >  ⋆⭒˚.⋆🪐 ⋆⭒˚.⋆"
   ]
  },
  {
   "cell_type": "markdown",
   "id": "73b5ff20",
   "metadata": {},
   "source": [
    "<p style=\"text-align: center; color: goldenrod; font-size: 25px\" > $P u l s a r s$"
   ]
  },
  {
   "cell_type": "markdown",
   "id": "013d6160",
   "metadata": {},
   "source": [
    "In science, are speaking numbers as in literature, are speaking words. They complement each other."
   ]
  },
  {
   "cell_type": "markdown",
   "id": "3fc42090",
   "metadata": {},
   "source": [
    "> \"When a star that is eight times larger than the Sun, ends its life, it does not go gentle into that good night. Shifting pressure in its core causes it to collapse and trigger a supernova, the one of the largest explosions in the universe. The initial flash of light, which can outshine the star’s host galaxy, may last only seconds. But the resulting debris that is flung into space can be studied for millennia.\" NASA Universe Web Team"
   ]
  },
  {
   "cell_type": "markdown",
   "id": "3678becf",
   "metadata": {},
   "source": [
    "##### So, a pulsar star starts its life with a bang! And lives as the lighthouse of the cosmos."
   ]
  },
  {
   "cell_type": "markdown",
   "id": "9a12bf1f",
   "metadata": {},
   "source": [
    "My choice of words is not random: a pulsar star starts. May you see a pattern, iteration or connection?"
   ]
  },
  {
   "cell_type": "markdown",
   "id": "53610516",
   "metadata": {},
   "source": [
    "Some neutron stars are called pulsars. They emit streams of light that we see as flashes because the beams of light sweep in and out of our vision as the star rotates. Over weeks, months or longer, pulsars pulse with more accuracy than an atomic clock, which excites astronomers about the possible applications of measuring the timing of these pulses. The fastest known pulsar spins 43,000 times every minute. That's fast!"
   ]
  },
  {
   "cell_type": "markdown",
   "id": "52acc5fa",
   "metadata": {},
   "source": [
    "Scientists think neutron stars are layered:\n",
    "- at the surface, a thin atmosphere of hydrogen or helium atoms rests on a solid crust of heavier atoms.\n",
    "- in the crust, the rapid increase in pressure strips electrons from atomic nuclei.\n",
    "- deeper down, in the outer core, the nuclei split into neutrons and protons.\n",
    "\n",
    "But what form does matter take in the inner core? Is it neutrons all the way down, or do the neutrons break into their own constituent parts, called quarks? It remains mysterious."
   ]
  },
  {
   "cell_type": "markdown",
   "id": "0acc28a4",
   "metadata": {},
   "source": [
    "Pulsars spin fast and through *time series* we recognize a pulse. The stars pulsate and become captivating for researchers and studies. As mentioned, a pulsar star is recognizable in time and movement, just one attribute is not enough. So, a research on them produces large continuous data. We can shrink these data applying feature engineering. You will see in the stated dataset, the columns are categorized after statistical analysis."
   ]
  },
  {
   "cell_type": "markdown",
   "id": "d85fd4c4",
   "metadata": {},
   "source": [
    "> \"Pulsars are such extremely precise timepieces that we can use them to detect gravitational waves in a frequency range to which no other experiment will be sensitive.\" Benjamin Stappers, Professor of Astrophysics"
   ]
  },
  {
   "cell_type": "code",
   "execution_count": 3,
   "id": "c99630c0",
   "metadata": {},
   "outputs": [],
   "source": [
    "pulsar_stars = pd.read_csv(\"pulsar_stars.csv\")"
   ]
  },
  {
   "cell_type": "code",
   "execution_count": 4,
   "id": "b9b42624",
   "metadata": {},
   "outputs": [
    {
     "data": {
      "text/plain": [
       "Index([' Mean of the integrated profile',\n",
       "       ' Standard deviation of the integrated profile',\n",
       "       ' Excess kurtosis of the integrated profile',\n",
       "       ' Skewness of the integrated profile', ' Mean of the DM-SNR curve',\n",
       "       ' Standard deviation of the DM-SNR curve',\n",
       "       ' Excess kurtosis of the DM-SNR curve', ' Skewness of the DM-SNR curve',\n",
       "       'target_class'],\n",
       "      dtype='object')"
      ]
     },
     "execution_count": 4,
     "metadata": {},
     "output_type": "execute_result"
    }
   ],
   "source": [
    "pulsar_stars.columns"
   ]
  },
  {
   "cell_type": "code",
   "execution_count": 5,
   "id": "db43343a",
   "metadata": {},
   "outputs": [
    {
     "data": {
      "text/plain": [
       "0        False\n",
       "1        False\n",
       "2        False\n",
       "3        False\n",
       "4        False\n",
       "         ...  \n",
       "17893    False\n",
       "17894    False\n",
       "17895    False\n",
       "17896    False\n",
       "17897    False\n",
       "Name: target_class, Length: 17898, dtype: bool"
      ]
     },
     "execution_count": 5,
     "metadata": {},
     "output_type": "execute_result"
    }
   ],
   "source": [
    "pulsar_stars.target_class == 1"
   ]
  },
  {
   "cell_type": "code",
   "execution_count": 6,
   "id": "018f53e5",
   "metadata": {},
   "outputs": [
    {
     "data": {
      "text/html": [
       "<div>\n",
       "<style scoped>\n",
       "    .dataframe tbody tr th:only-of-type {\n",
       "        vertical-align: middle;\n",
       "    }\n",
       "\n",
       "    .dataframe tbody tr th {\n",
       "        vertical-align: top;\n",
       "    }\n",
       "\n",
       "    .dataframe thead th {\n",
       "        text-align: right;\n",
       "    }\n",
       "</style>\n",
       "<table border=\"1\" class=\"dataframe\">\n",
       "  <thead>\n",
       "    <tr style=\"text-align: right;\">\n",
       "      <th></th>\n",
       "      <th>Mean of the integrated profile</th>\n",
       "      <th>Standard deviation of the integrated profile</th>\n",
       "      <th>Excess kurtosis of the integrated profile</th>\n",
       "      <th>Skewness of the integrated profile</th>\n",
       "      <th>Mean of the DM-SNR curve</th>\n",
       "      <th>Standard deviation of the DM-SNR curve</th>\n",
       "      <th>Excess kurtosis of the DM-SNR curve</th>\n",
       "      <th>Skewness of the DM-SNR curve</th>\n",
       "      <th>target_class</th>\n",
       "    </tr>\n",
       "  </thead>\n",
       "  <tbody>\n",
       "    <tr>\n",
       "      <th>19</th>\n",
       "      <td>99.367188</td>\n",
       "      <td>41.572202</td>\n",
       "      <td>1.547197</td>\n",
       "      <td>4.154106</td>\n",
       "      <td>27.555184</td>\n",
       "      <td>61.719016</td>\n",
       "      <td>2.208808</td>\n",
       "      <td>3.662680</td>\n",
       "      <td>1</td>\n",
       "    </tr>\n",
       "    <tr>\n",
       "      <th>42</th>\n",
       "      <td>120.554688</td>\n",
       "      <td>45.549905</td>\n",
       "      <td>0.282924</td>\n",
       "      <td>0.419909</td>\n",
       "      <td>1.358696</td>\n",
       "      <td>13.079034</td>\n",
       "      <td>13.312141</td>\n",
       "      <td>212.597029</td>\n",
       "      <td>1</td>\n",
       "    </tr>\n",
       "    <tr>\n",
       "      <th>61</th>\n",
       "      <td>27.765625</td>\n",
       "      <td>28.666042</td>\n",
       "      <td>5.770087</td>\n",
       "      <td>37.419009</td>\n",
       "      <td>73.112876</td>\n",
       "      <td>62.070220</td>\n",
       "      <td>1.268206</td>\n",
       "      <td>1.082920</td>\n",
       "      <td>1</td>\n",
       "    </tr>\n",
       "    <tr>\n",
       "      <th>92</th>\n",
       "      <td>23.625000</td>\n",
       "      <td>29.948654</td>\n",
       "      <td>5.688038</td>\n",
       "      <td>35.987172</td>\n",
       "      <td>146.568562</td>\n",
       "      <td>82.394624</td>\n",
       "      <td>-0.274902</td>\n",
       "      <td>-1.121848</td>\n",
       "      <td>1</td>\n",
       "    </tr>\n",
       "    <tr>\n",
       "      <th>93</th>\n",
       "      <td>94.585938</td>\n",
       "      <td>35.779823</td>\n",
       "      <td>1.187309</td>\n",
       "      <td>3.687469</td>\n",
       "      <td>6.071070</td>\n",
       "      <td>29.760400</td>\n",
       "      <td>5.318767</td>\n",
       "      <td>28.698048</td>\n",
       "      <td>1</td>\n",
       "    </tr>\n",
       "    <tr>\n",
       "      <th>...</th>\n",
       "      <td>...</td>\n",
       "      <td>...</td>\n",
       "      <td>...</td>\n",
       "      <td>...</td>\n",
       "      <td>...</td>\n",
       "      <td>...</td>\n",
       "      <td>...</td>\n",
       "      <td>...</td>\n",
       "      <td>...</td>\n",
       "    </tr>\n",
       "    <tr>\n",
       "      <th>17515</th>\n",
       "      <td>89.867188</td>\n",
       "      <td>47.482295</td>\n",
       "      <td>1.591325</td>\n",
       "      <td>2.505057</td>\n",
       "      <td>0.763378</td>\n",
       "      <td>12.393561</td>\n",
       "      <td>17.940745</td>\n",
       "      <td>333.902630</td>\n",
       "      <td>1</td>\n",
       "    </tr>\n",
       "    <tr>\n",
       "      <th>17529</th>\n",
       "      <td>27.039062</td>\n",
       "      <td>33.754722</td>\n",
       "      <td>4.779124</td>\n",
       "      <td>26.255357</td>\n",
       "      <td>129.863712</td>\n",
       "      <td>78.815440</td>\n",
       "      <td>-0.348492</td>\n",
       "      <td>-0.893791</td>\n",
       "      <td>1</td>\n",
       "    </tr>\n",
       "    <tr>\n",
       "      <th>17558</th>\n",
       "      <td>77.070312</td>\n",
       "      <td>39.000638</td>\n",
       "      <td>1.884421</td>\n",
       "      <td>6.372178</td>\n",
       "      <td>38.517559</td>\n",
       "      <td>65.741059</td>\n",
       "      <td>1.589513</td>\n",
       "      <td>1.285346</td>\n",
       "      <td>1</td>\n",
       "    </tr>\n",
       "    <tr>\n",
       "      <th>17642</th>\n",
       "      <td>28.375000</td>\n",
       "      <td>27.649311</td>\n",
       "      <td>6.377273</td>\n",
       "      <td>45.944048</td>\n",
       "      <td>141.860368</td>\n",
       "      <td>82.893017</td>\n",
       "      <td>-0.477222</td>\n",
       "      <td>-1.067880</td>\n",
       "      <td>1</td>\n",
       "    </tr>\n",
       "    <tr>\n",
       "      <th>17876</th>\n",
       "      <td>111.765625</td>\n",
       "      <td>52.943585</td>\n",
       "      <td>0.671724</td>\n",
       "      <td>0.383594</td>\n",
       "      <td>149.843646</td>\n",
       "      <td>97.926948</td>\n",
       "      <td>-0.696153</td>\n",
       "      <td>-1.260403</td>\n",
       "      <td>1</td>\n",
       "    </tr>\n",
       "  </tbody>\n",
       "</table>\n",
       "<p>1639 rows × 9 columns</p>\n",
       "</div>"
      ],
      "text/plain": [
       "        Mean of the integrated profile  \\\n",
       "19                           99.367188   \n",
       "42                          120.554688   \n",
       "61                           27.765625   \n",
       "92                           23.625000   \n",
       "93                           94.585938   \n",
       "...                                ...   \n",
       "17515                        89.867188   \n",
       "17529                        27.039062   \n",
       "17558                        77.070312   \n",
       "17642                        28.375000   \n",
       "17876                       111.765625   \n",
       "\n",
       "        Standard deviation of the integrated profile  \\\n",
       "19                                         41.572202   \n",
       "42                                         45.549905   \n",
       "61                                         28.666042   \n",
       "92                                         29.948654   \n",
       "93                                         35.779823   \n",
       "...                                              ...   \n",
       "17515                                      47.482295   \n",
       "17529                                      33.754722   \n",
       "17558                                      39.000638   \n",
       "17642                                      27.649311   \n",
       "17876                                      52.943585   \n",
       "\n",
       "        Excess kurtosis of the integrated profile  \\\n",
       "19                                       1.547197   \n",
       "42                                       0.282924   \n",
       "61                                       5.770087   \n",
       "92                                       5.688038   \n",
       "93                                       1.187309   \n",
       "...                                           ...   \n",
       "17515                                    1.591325   \n",
       "17529                                    4.779124   \n",
       "17558                                    1.884421   \n",
       "17642                                    6.377273   \n",
       "17876                                    0.671724   \n",
       "\n",
       "        Skewness of the integrated profile   Mean of the DM-SNR curve  \\\n",
       "19                                4.154106                  27.555184   \n",
       "42                                0.419909                   1.358696   \n",
       "61                               37.419009                  73.112876   \n",
       "92                               35.987172                 146.568562   \n",
       "93                                3.687469                   6.071070   \n",
       "...                                    ...                        ...   \n",
       "17515                             2.505057                   0.763378   \n",
       "17529                            26.255357                 129.863712   \n",
       "17558                             6.372178                  38.517559   \n",
       "17642                            45.944048                 141.860368   \n",
       "17876                             0.383594                 149.843646   \n",
       "\n",
       "        Standard deviation of the DM-SNR curve  \\\n",
       "19                                   61.719016   \n",
       "42                                   13.079034   \n",
       "61                                   62.070220   \n",
       "92                                   82.394624   \n",
       "93                                   29.760400   \n",
       "...                                        ...   \n",
       "17515                                12.393561   \n",
       "17529                                78.815440   \n",
       "17558                                65.741059   \n",
       "17642                                82.893017   \n",
       "17876                                97.926948   \n",
       "\n",
       "        Excess kurtosis of the DM-SNR curve   Skewness of the DM-SNR curve  \\\n",
       "19                                 2.208808                       3.662680   \n",
       "42                                13.312141                     212.597029   \n",
       "61                                 1.268206                       1.082920   \n",
       "92                                -0.274902                      -1.121848   \n",
       "93                                 5.318767                      28.698048   \n",
       "...                                     ...                            ...   \n",
       "17515                             17.940745                     333.902630   \n",
       "17529                             -0.348492                      -0.893791   \n",
       "17558                              1.589513                       1.285346   \n",
       "17642                             -0.477222                      -1.067880   \n",
       "17876                             -0.696153                      -1.260403   \n",
       "\n",
       "       target_class  \n",
       "19                1  \n",
       "42                1  \n",
       "61                1  \n",
       "92                1  \n",
       "93                1  \n",
       "...             ...  \n",
       "17515             1  \n",
       "17529             1  \n",
       "17558             1  \n",
       "17642             1  \n",
       "17876             1  \n",
       "\n",
       "[1639 rows x 9 columns]"
      ]
     },
     "execution_count": 6,
     "metadata": {},
     "output_type": "execute_result"
    }
   ],
   "source": [
    "pulsar_stars.loc[pulsar_stars[\"target_class\"] == True]"
   ]
  },
  {
   "cell_type": "markdown",
   "id": "0d6642ed",
   "metadata": {},
   "source": [
    "<p style=\"text-align: left; color: gray\"> work in progress..."
   ]
  },
  {
   "cell_type": "markdown",
   "id": "11eeea68",
   "metadata": {},
   "source": [
    "_______________________________________________________________________________________________________________________________"
   ]
  },
  {
   "cell_type": "markdown",
   "id": "6b79c9b6",
   "metadata": {},
   "source": [
    "References:\n",
    "1. NASA science: https://science.nasa.gov/universe/neutron-stars-are-weird/\n",
    "2. Jeanette Kazmierczak: https://www.nasa.gov/universe/nasas-nicer-probes-the-squeezability-of-neutron-stars/\n",
    "3. Pulsar dataset: https://www.kaggle.com/datasets/spacemod/pulsar-dataset/data"
   ]
  }
 ],
 "metadata": {
  "kernelspec": {
   "display_name": "Python 3 (ipykernel)",
   "language": "python",
   "name": "python3"
  },
  "language_info": {
   "codemirror_mode": {
    "name": "ipython",
    "version": 3
   },
   "file_extension": ".py",
   "mimetype": "text/x-python",
   "name": "python",
   "nbconvert_exporter": "python",
   "pygments_lexer": "ipython3",
   "version": "3.9.13"
  }
 },
 "nbformat": 4,
 "nbformat_minor": 5
}
